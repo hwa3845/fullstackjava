{
 "cells": [
  {
   "cell_type": "code",
   "execution_count": 10,
   "id": "40600cc7",
   "metadata": {},
   "outputs": [],
   "source": [
    "def my_function():\n",
    "  print(\"Hello from a function\")"
   ]
  },
  {
   "cell_type": "code",
   "execution_count": 11,
   "id": "50361bc2",
   "metadata": {},
   "outputs": [
    {
     "name": "stdout",
     "output_type": "stream",
     "text": [
      "Hello from a function\n"
     ]
    }
   ],
   "source": [
    "my_function()"
   ]
  },
  {
   "cell_type": "code",
   "execution_count": 3,
   "id": "a292c8f6",
   "metadata": {},
   "outputs": [
    {
     "name": "stdout",
     "output_type": "stream",
     "text": [
      "<function my_function at 0x000001D2EA907B00>\n"
     ]
    }
   ],
   "source": [
    "func=my_function\n",
    "print(func)"
   ]
  },
  {
   "cell_type": "code",
   "execution_count": 4,
   "id": "49741219",
   "metadata": {},
   "outputs": [
    {
     "name": "stdout",
     "output_type": "stream",
     "text": [
      "Hello from a function\n"
     ]
    }
   ],
   "source": [
    "func()"
   ]
  },
  {
   "cell_type": "code",
   "execution_count": 18,
   "id": "0b0c58c4",
   "metadata": {},
   "outputs": [
    {
     "name": "stdout",
     "output_type": "stream",
     "text": [
      "('Emil', 'Tobias', 'Linus')\n"
     ]
    }
   ],
   "source": [
    "def my_function(*kids):\n",
    "    print(kids)\n",
    "\n",
    "my_function(\"Emil\",\"Tobias\",\"Linus\")"
   ]
  },
  {
   "cell_type": "code",
   "execution_count": 21,
   "id": "5df7f56b",
   "metadata": {},
   "outputs": [
    {
     "name": "stdout",
     "output_type": "stream",
     "text": [
      "(['item1', 'item2', 'item3'],)\n",
      "('item1', 'item2', 'item3')\n",
      "('item1', 'item2', 'item3')\n"
     ]
    }
   ],
   "source": [
    "arr1=['item1','item2','item3']\n",
    "my_function(arr1)\n",
    "my_function(*arr1)\n",
    "my_function(*['item1','item2','item3'])"
   ]
  },
  {
   "cell_type": "code",
   "execution_count": 17,
   "id": "31839a26",
   "metadata": {},
   "outputs": [
    {
     "data": {
      "text/plain": [
       "tuple"
      ]
     },
     "execution_count": 17,
     "metadata": {},
     "output_type": "execute_result"
    }
   ],
   "source": [
    "a=('item1',)\n",
    "type(a)"
   ]
  },
  {
   "cell_type": "code",
   "execution_count": 22,
   "id": "66cf7f1b",
   "metadata": {},
   "outputs": [
    {
     "name": "stdout",
     "output_type": "stream",
     "text": [
      "v1\n",
      "v2\n",
      "v3\n"
     ]
    }
   ],
   "source": [
    "def func2(arg):\n",
    "    print(arg['k1'])\n",
    "    print(arg['k2'])\n",
    "    print(arg['k3'])\n",
    "\n",
    "func2({'k1':'v1','k2':'v2','k3':'v3'})"
   ]
  },
  {
   "cell_type": "code",
   "execution_count": 27,
   "id": "482fabdd",
   "metadata": {},
   "outputs": [
    {
     "name": "stdout",
     "output_type": "stream",
     "text": [
      "{'k1': 'v1', 'k2': 'v2'}\n"
     ]
    }
   ],
   "source": [
    "def func3(**arg):\n",
    "    print(arg)\n",
    "\n",
    "func2(k1='v1',k2='v2')"
   ]
  },
  {
   "cell_type": "code",
   "execution_count": 24,
   "id": "7f9593b7",
   "metadata": {},
   "outputs": [
    {
     "name": "stdout",
     "output_type": "stream",
     "text": [
      "1\n",
      "2\n",
      "3\n"
     ]
    }
   ],
   "source": [
    "print(1,2,3,sep='\\n')"
   ]
  },
  {
   "cell_type": "code",
   "execution_count": 28,
   "id": "4756ea63",
   "metadata": {},
   "outputs": [
    {
     "name": "stdout",
     "output_type": "stream",
     "text": [
      "{'k1': 'v1', 'k2': 'v2'}\n"
     ]
    }
   ],
   "source": [
    "myMap={'k1': 'v1', 'k2': 'v2'}\n",
    "\n",
    "func3(**myMap)"
   ]
  },
  {
   "cell_type": "code",
   "execution_count": 29,
   "id": "c3a4dc9e",
   "metadata": {},
   "outputs": [
    {
     "name": "stdout",
     "output_type": "stream",
     "text": [
      "1 2\n"
     ]
    }
   ],
   "source": [
    "def func4(a,b=10):\n",
    "    print(a,b)\n",
    "\n",
    "func4(1,2)"
   ]
  },
  {
   "cell_type": "code",
   "execution_count": 31,
   "id": "2e4764f8",
   "metadata": {},
   "outputs": [
    {
     "name": "stdout",
     "output_type": "stream",
     "text": [
      "1 2 300 () {}\n",
      "1 2 3 () {}\n",
      "1 2 3 (4, 5) {}\n",
      "1 2 3 (4, 5) {'name': 'test'}\n"
     ]
    }
   ],
   "source": [
    "def func4(a,b,c=300,*arg1,**arg2):\n",
    "    print(a,b,c,arg1,arg2)\n",
    "\n",
    "func4(1,2)\n",
    "func4(1,2,3)\n",
    "func4(1,2,3,4,5)\n",
    "func4(1,2,3,4,5,name='test')"
   ]
  },
  {
   "cell_type": "code",
   "execution_count": 32,
   "id": "b57693b7",
   "metadata": {},
   "outputs": [
    {
     "name": "stdout",
     "output_type": "stream",
     "text": [
      "15\n"
     ]
    }
   ],
   "source": [
    "x = lambda a : a + 10\n",
    "print(x(5))"
   ]
  },
  {
   "cell_type": "code",
   "execution_count": 33,
   "id": "62ce8802",
   "metadata": {},
   "outputs": [
    {
     "name": "stdout",
     "output_type": "stream",
     "text": [
      "30\n"
     ]
    }
   ],
   "source": [
    "x = lambda a, b : a * b\n",
    "print(x(5, 6))"
   ]
  },
  {
   "cell_type": "code",
   "execution_count": null,
   "id": "9f650f06",
   "metadata": {},
   "outputs": [],
   "source": []
  }
 ],
 "metadata": {
  "kernelspec": {
   "display_name": "Python 3",
   "language": "python",
   "name": "python3"
  },
  "language_info": {
   "codemirror_mode": {
    "name": "ipython",
    "version": 3
   },
   "file_extension": ".py",
   "mimetype": "text/x-python",
   "name": "python",
   "nbconvert_exporter": "python",
   "pygments_lexer": "ipython3",
   "version": "3.11.9"
  }
 },
 "nbformat": 4,
 "nbformat_minor": 5
}
