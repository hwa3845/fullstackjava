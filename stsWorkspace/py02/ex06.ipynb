{
 "cells": [
  {
   "cell_type": "markdown",
   "id": "274c024a",
   "metadata": {},
   "source": [
    "## IO"
   ]
  },
  {
   "cell_type": "code",
   "execution_count": 36,
   "id": "8b68aa4b",
   "metadata": {},
   "outputs": [],
   "source": [
    "f = open(\"ex05.py\",encoding='utf-8')"
   ]
  },
  {
   "cell_type": "code",
   "execution_count": 35,
   "id": "4bcb6687",
   "metadata": {},
   "outputs": [
    {
     "name": "stdout",
     "output_type": "stream",
     "text": [
      "\n"
     ]
    }
   ],
   "source": [
    "print(f.read())\n",
    "# print(f.readline())\n",
    "# print(f.readline())\n",
    "# cnt=0\n",
    "# for a in f:\n",
    "#     cnt+=1\n",
    "#     print(cnt,a)\n",
    "f.close()"
   ]
  },
  {
   "cell_type": "code",
   "execution_count": 12,
   "id": "c75cb41d",
   "metadata": {},
   "outputs": [
    {
     "name": "stdout",
     "output_type": "stream",
     "text": [
      "def func1():\n",
      "     print('메인으로 실행')\n",
      "def func2():\n",
      "     print('모듈로 불러다 수행')\n",
      "\n",
      "if __name__=='__main__':\n",
      "    func1()\n"
     ]
    }
   ],
   "source": [
    "with open(\"pack/ex04.py\",encoding='utf-8') as f:\n",
    "  print(f.read())"
   ]
  },
  {
   "cell_type": "code",
   "execution_count": 37,
   "id": "acacb662",
   "metadata": {},
   "outputs": [],
   "source": [
    "f=open(\"ex07.txt\",\"wt\")\n",
    "f.write('abcdefg')\n",
    "f.close()"
   ]
  },
  {
   "cell_type": "code",
   "execution_count": 41,
   "id": "c3fcf13b",
   "metadata": {},
   "outputs": [],
   "source": [
    "with open(\"ex07.txt\",\"wt\") as f:\n",
    "    # f.write('ABCD')\n",
    "    f.writelines(['ABCD','1234','!@#$'])"
   ]
  },
  {
   "cell_type": "code",
   "execution_count": null,
   "id": "0c3a40f3",
   "metadata": {},
   "outputs": [],
   "source": [
    "f=open(\"ex08.txt\",\"x\")\n",
    "f.close()"
   ]
  },
  {
   "cell_type": "code",
   "execution_count": 45,
   "id": "60630365",
   "metadata": {},
   "outputs": [],
   "source": [
    "import os\n",
    "os.remove(\"ex08.txt\")"
   ]
  },
  {
   "cell_type": "code",
   "execution_count": 46,
   "id": "3128afe7",
   "metadata": {},
   "outputs": [
    {
     "name": "stdout",
     "output_type": "stream",
     "text": [
      "The file does not exist\n"
     ]
    }
   ],
   "source": [
    "import os\n",
    "if os.path.exists(\"ex08.txt\"):\n",
    "  os.remove(\"ex08.txt\")\n",
    "else:\n",
    "  print(\"The file does not exist\")"
   ]
  },
  {
   "cell_type": "code",
   "execution_count": 47,
   "id": "7b826a82",
   "metadata": {},
   "outputs": [],
   "source": [
    "os.mkdir('test')"
   ]
  },
  {
   "cell_type": "code",
   "execution_count": 48,
   "id": "e212fbb8",
   "metadata": {},
   "outputs": [],
   "source": [
    "os.rmdir('test')"
   ]
  },
  {
   "cell_type": "code",
   "execution_count": 51,
   "id": "1de5499c",
   "metadata": {},
   "outputs": [],
   "source": [
    "f1=open('skrxk.png','rb')\n",
    "f2=open('copy01.png','wb')\n",
    "f2.write(f1.read())\n",
    "f1.close()\n",
    "f2.close()"
   ]
  },
  {
   "cell_type": "code",
   "execution_count": null,
   "id": "b068f4c0",
   "metadata": {},
   "outputs": [],
   "source": []
  }
 ],
 "metadata": {
  "kernelspec": {
   "display_name": "Python 3",
   "language": "python",
   "name": "python3"
  },
  "language_info": {
   "codemirror_mode": {
    "name": "ipython",
    "version": 3
   },
   "file_extension": ".py",
   "mimetype": "text/x-python",
   "name": "python",
   "nbconvert_exporter": "python",
   "pygments_lexer": "ipython3",
   "version": "3.11.9"
  }
 },
 "nbformat": 4,
 "nbformat_minor": 5
}
