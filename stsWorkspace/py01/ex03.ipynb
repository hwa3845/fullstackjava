{
 "cells": [
  {
   "cell_type": "code",
   "execution_count": 1,
   "id": "71297010",
   "metadata": {},
   "outputs": [],
   "source": [
    "family = ['mother', 'father', 'gentleman', 'sexy lady']"
   ]
  },
  {
   "cell_type": "code",
   "execution_count": 3,
   "id": "32ec6b8e",
   "metadata": {},
   "outputs": [
    {
     "name": "stdout",
     "output_type": "stream",
     "text": [
      "<class 'list'> ['mother', 'father', 'gentleman', 'sexy lady']\n"
     ]
    }
   ],
   "source": [
    "print(type(family),family)"
   ]
  },
  {
   "cell_type": "code",
   "execution_count": 4,
   "id": "2186b9a6",
   "metadata": {},
   "outputs": [],
   "source": [
    "family.append('item1')"
   ]
  },
  {
   "cell_type": "code",
   "execution_count": 9,
   "id": "a3829125",
   "metadata": {},
   "outputs": [],
   "source": [
    "family.insert(0,'item2')"
   ]
  },
  {
   "cell_type": "code",
   "execution_count": 10,
   "id": "2e07339f",
   "metadata": {},
   "outputs": [
    {
     "name": "stdout",
     "output_type": "stream",
     "text": [
      "<class 'list'> ['item2', 'mother', 'father', 'gentleman', 'sexy lady']\n"
     ]
    }
   ],
   "source": [
    "print(type(family),family)"
   ]
  },
  {
   "cell_type": "code",
   "execution_count": 11,
   "id": "d06bfe06",
   "metadata": {},
   "outputs": [
    {
     "data": {
      "text/plain": [
       "'sexy lady'"
      ]
     },
     "execution_count": 11,
     "metadata": {},
     "output_type": "execute_result"
    }
   ],
   "source": [
    "family.pop()"
   ]
  },
  {
   "cell_type": "code",
   "execution_count": 13,
   "id": "92bb042a",
   "metadata": {},
   "outputs": [],
   "source": [
    "family.insert(2,'item3')"
   ]
  },
  {
   "cell_type": "code",
   "execution_count": 14,
   "id": "afee0581",
   "metadata": {},
   "outputs": [
    {
     "name": "stdout",
     "output_type": "stream",
     "text": [
      "<class 'list'> ['item2', 'mother', 'item3', 'father', 'gentleman']\n"
     ]
    }
   ],
   "source": [
    "print(type(family),family)"
   ]
  },
  {
   "cell_type": "code",
   "execution_count": 15,
   "id": "7a3185c3",
   "metadata": {},
   "outputs": [],
   "source": [
    "family.remove('item3')"
   ]
  },
  {
   "cell_type": "code",
   "execution_count": 16,
   "id": "930d6888",
   "metadata": {},
   "outputs": [
    {
     "name": "stdout",
     "output_type": "stream",
     "text": [
      "<class 'list'> ['item2', 'mother', 'father', 'gentleman']\n"
     ]
    }
   ],
   "source": [
    "print(type(family),family)"
   ]
  },
  {
   "cell_type": "code",
   "execution_count": 24,
   "id": "9fe9df10",
   "metadata": {},
   "outputs": [
    {
     "name": "stdout",
     "output_type": "stream",
     "text": [
      "item2\n",
      "mother\n",
      "edit\n",
      "gentleman\n"
     ]
    }
   ],
   "source": [
    "# for i in [0,1,2,3]:\n",
    "for i in range(len(family)):\n",
    "    print(family[i])"
   ]
  },
  {
   "cell_type": "code",
   "execution_count": 17,
   "id": "a4e222c2",
   "metadata": {},
   "outputs": [
    {
     "name": "stdout",
     "output_type": "stream",
     "text": [
      "item2\n",
      "mother\n",
      "father\n",
      "gentleman\n"
     ]
    }
   ],
   "source": [
    "for ele in family:\n",
    "    print(ele)"
   ]
  },
  {
   "cell_type": "code",
   "execution_count": 18,
   "id": "f18d935d",
   "metadata": {},
   "outputs": [],
   "source": [
    "family[2]='edit'"
   ]
  },
  {
   "cell_type": "code",
   "execution_count": 19,
   "id": "46a8e206",
   "metadata": {},
   "outputs": [
    {
     "name": "stdout",
     "output_type": "stream",
     "text": [
      "<class 'list'> ['item2', 'mother', 'edit', 'gentleman']\n"
     ]
    }
   ],
   "source": [
    "print(type(family),family)"
   ]
  },
  {
   "cell_type": "code",
   "execution_count": 22,
   "id": "68cabe1b",
   "metadata": {},
   "outputs": [
    {
     "data": {
      "text/plain": [
       "[0, 1, 2, 3, 4]"
      ]
     },
     "execution_count": 22,
     "metadata": {},
     "output_type": "execute_result"
    }
   ],
   "source": [
    "list(range(5))"
   ]
  },
  {
   "cell_type": "code",
   "execution_count": 23,
   "id": "c2f9c780",
   "metadata": {},
   "outputs": [
    {
     "data": {
      "text/plain": [
       "range(0, 5)"
      ]
     },
     "execution_count": 23,
     "metadata": {},
     "output_type": "execute_result"
    }
   ],
   "source": [
    "range(5)"
   ]
  },
  {
   "cell_type": "code",
   "execution_count": 25,
   "id": "79507fc6",
   "metadata": {},
   "outputs": [],
   "source": [
    "arr1=[1,7,4,8,3]"
   ]
  },
  {
   "cell_type": "code",
   "execution_count": 27,
   "id": "75be174f",
   "metadata": {},
   "outputs": [],
   "source": [
    "arr1.sort()"
   ]
  },
  {
   "cell_type": "code",
   "execution_count": 33,
   "id": "9034e583",
   "metadata": {},
   "outputs": [],
   "source": [
    "arr1.reverse()"
   ]
  },
  {
   "cell_type": "code",
   "execution_count": 34,
   "id": "fbe3df72",
   "metadata": {},
   "outputs": [
    {
     "data": {
      "text/plain": [
       "[8, 7, 4, 3, 1]"
      ]
     },
     "execution_count": 34,
     "metadata": {},
     "output_type": "execute_result"
    }
   ],
   "source": [
    "arr1"
   ]
  },
  {
   "cell_type": "code",
   "execution_count": 36,
   "id": "cd700a30",
   "metadata": {},
   "outputs": [
    {
     "name": "stdout",
     "output_type": "stream",
     "text": [
      "True\n",
      "False\n",
      "True\n"
     ]
    }
   ],
   "source": [
    "print(3 in arr1)\n",
    "print(5 in arr1)\n",
    "print(5 not in arr1)"
   ]
  },
  {
   "cell_type": "code",
   "execution_count": 39,
   "id": "bf6f1437",
   "metadata": {},
   "outputs": [
    {
     "name": "stdout",
     "output_type": "stream",
     "text": [
      "(2, 4, 6, 8)\n"
     ]
    }
   ],
   "source": [
    "arr2=(2,4,6,8)\n",
    "print(arr2)"
   ]
  },
  {
   "cell_type": "code",
   "execution_count": 40,
   "id": "3bcef965",
   "metadata": {},
   "outputs": [
    {
     "name": "stdout",
     "output_type": "stream",
     "text": [
      "2\n",
      "4\n",
      "6\n",
      "8\n"
     ]
    }
   ],
   "source": [
    "for ele in arr2:\n",
    "    print(ele)"
   ]
  },
  {
   "cell_type": "code",
   "execution_count": 42,
   "id": "ce9eab52",
   "metadata": {},
   "outputs": [
    {
     "name": "stdout",
     "output_type": "stream",
     "text": [
      "30 20 10\n"
     ]
    }
   ],
   "source": [
    "(kor, eng, math)=(10,20,30)\n",
    "(kor, eng, math)=(math, eng, kor)\n",
    "print(kor, eng, math)"
   ]
  },
  {
   "cell_type": "code",
   "execution_count": 43,
   "id": "4f8b7485",
   "metadata": {},
   "outputs": [
    {
     "data": {
      "text/plain": [
       "[1, 3, 5, 7, 2, 4, 6, 8]"
      ]
     },
     "execution_count": 43,
     "metadata": {},
     "output_type": "execute_result"
    }
   ],
   "source": [
    "arr3=[1,3,5,7]\n",
    "arr4=[2,4,6,8]\n",
    "arr3.extend(arr4)\n",
    "arr3"
   ]
  },
  {
   "cell_type": "code",
   "execution_count": null,
   "id": "ca402e88",
   "metadata": {},
   "outputs": [],
   "source": []
  }
 ],
 "metadata": {
  "kernelspec": {
   "display_name": "Python 3",
   "language": "python",
   "name": "python3"
  },
  "language_info": {
   "codemirror_mode": {
    "name": "ipython",
    "version": 3
   },
   "file_extension": ".py",
   "mimetype": "text/x-python",
   "name": "python",
   "nbconvert_exporter": "python",
   "pygments_lexer": "ipython3",
   "version": "3.11.9"
  }
 },
 "nbformat": 4,
 "nbformat_minor": 5
}
