{
 "cells": [
  {
   "cell_type": "code",
   "execution_count": 1,
   "id": "3b20985b",
   "metadata": {},
   "outputs": [
    {
     "name": "stdout",
     "output_type": "stream",
     "text": [
      "test\n"
     ]
    }
   ],
   "source": [
    "print('test')"
   ]
  },
  {
   "cell_type": "code",
   "execution_count": 4,
   "id": "6b8a8b06",
   "metadata": {},
   "outputs": [
    {
     "data": {
      "text/plain": [
       "1666.6666666666667"
      ]
     },
     "execution_count": 4,
     "metadata": {},
     "output_type": "execute_result"
    }
   ],
   "source": [
    "5000/3"
   ]
  },
  {
   "cell_type": "code",
   "execution_count": 6,
   "id": "db923383",
   "metadata": {},
   "outputs": [
    {
     "data": {
      "text/plain": [
       "166"
      ]
     },
     "execution_count": 6,
     "metadata": {},
     "output_type": "execute_result"
    }
   ],
   "source": [
    "500//3"
   ]
  },
  {
   "cell_type": "code",
   "execution_count": 7,
   "id": "75772c08",
   "metadata": {},
   "outputs": [
    {
     "data": {
      "text/plain": [
       "2"
      ]
     },
     "execution_count": 7,
     "metadata": {},
     "output_type": "execute_result"
    }
   ],
   "source": [
    "5000%3"
   ]
  },
  {
   "cell_type": "code",
   "execution_count": 8,
   "id": "9d792735",
   "metadata": {},
   "outputs": [
    {
     "data": {
      "text/plain": [
       "8"
      ]
     },
     "execution_count": 8,
     "metadata": {},
     "output_type": "execute_result"
    }
   ],
   "source": [
    "2**3"
   ]
  },
  {
   "cell_type": "code",
   "execution_count": 10,
   "id": "30cea98f",
   "metadata": {},
   "outputs": [
    {
     "data": {
      "text/plain": [
       "'문자열'"
      ]
     },
     "execution_count": 10,
     "metadata": {},
     "output_type": "execute_result"
    }
   ],
   "source": [
    "'문자열'"
   ]
  },
  {
   "cell_type": "code",
   "execution_count": 12,
   "id": "dc3d2aa4",
   "metadata": {},
   "outputs": [
    {
     "data": {
      "text/plain": [
       "'문자열'"
      ]
     },
     "execution_count": 12,
     "metadata": {},
     "output_type": "execute_result"
    }
   ],
   "source": [
    "\"문자열\""
   ]
  },
  {
   "cell_type": "code",
   "execution_count": 13,
   "id": "3c48b241",
   "metadata": {},
   "outputs": [
    {
     "data": {
      "text/plain": [
       "'문자열'"
      ]
     },
     "execution_count": 13,
     "metadata": {},
     "output_type": "execute_result"
    }
   ],
   "source": [
    "'문자'+'열'"
   ]
  },
  {
   "cell_type": "code",
   "execution_count": 14,
   "id": "82caa3ce",
   "metadata": {},
   "outputs": [
    {
     "ename": "TypeError",
     "evalue": "can only concatenate str (not \"int\") to str",
     "output_type": "error",
     "traceback": [
      "\u001b[31m---------------------------------------------------------------------------\u001b[39m",
      "\u001b[31mTypeError\u001b[39m                                 Traceback (most recent call last)",
      "\u001b[36mCell\u001b[39m\u001b[36m \u001b[39m\u001b[32mIn[14]\u001b[39m\u001b[32m, line 1\u001b[39m\n\u001b[32m----> \u001b[39m\u001b[32m1\u001b[39m \u001b[33;43m'\u001b[39;49m\u001b[33;43m문자\u001b[39;49m\u001b[33;43m'\u001b[39;49m\u001b[43m+\u001b[49m\u001b[32;43m1111\u001b[39;49m\n",
      "\u001b[31mTypeError\u001b[39m: can only concatenate str (not \"int\") to str"
     ]
    }
   ],
   "source": [
    "'문자'+1111"
   ]
  },
  {
   "cell_type": "code",
   "execution_count": 15,
   "id": "cdc8a013",
   "metadata": {},
   "outputs": [
    {
     "data": {
      "text/plain": [
       "'문자1111'"
      ]
     },
     "execution_count": 15,
     "metadata": {},
     "output_type": "execute_result"
    }
   ],
   "source": [
    "'문자'+str(1111)"
   ]
  },
  {
   "cell_type": "code",
   "execution_count": 16,
   "id": "12bc5f8d",
   "metadata": {},
   "outputs": [
    {
     "data": {
      "text/plain": [
       "'문자열문자열문자열'"
      ]
     },
     "execution_count": 16,
     "metadata": {},
     "output_type": "execute_result"
    }
   ],
   "source": [
    "'문자열'*3"
   ]
  },
  {
   "cell_type": "code",
   "execution_count": 17,
   "id": "85b7c1ef",
   "metadata": {},
   "outputs": [
    {
     "data": {
      "text/plain": [
       "(2, 1)"
      ]
     },
     "execution_count": 17,
     "metadata": {},
     "output_type": "execute_result"
    }
   ],
   "source": [
    "divmod(5,2)"
   ]
  },
  {
   "cell_type": "code",
   "execution_count": 18,
   "id": "672f888e",
   "metadata": {},
   "outputs": [
    {
     "name": "stdout",
     "output_type": "stream",
     "text": [
      "f3\n"
     ]
    }
   ],
   "source": [
    "def func():\n",
    "    print('f1')\n",
    "    print('f2')\n",
    "print('f3')"
   ]
  },
  {
   "cell_type": "code",
   "execution_count": 19,
   "id": "b3b5d527",
   "metadata": {},
   "outputs": [
    {
     "name": "stdout",
     "output_type": "stream",
     "text": [
      "f1\n",
      "f2\n"
     ]
    }
   ],
   "source": [
    "func()"
   ]
  },
  {
   "cell_type": "code",
   "execution_count": 22,
   "id": "61b877cc",
   "metadata": {},
   "outputs": [],
   "source": [
    "watch = 100000\n",
    "lighter = 300"
   ]
  },
  {
   "cell_type": "code",
   "execution_count": 23,
   "id": "441641b9",
   "metadata": {},
   "outputs": [
    {
     "data": {
      "text/plain": [
       "100300"
      ]
     },
     "execution_count": 23,
     "metadata": {},
     "output_type": "execute_result"
    }
   ],
   "source": [
    "watch + lighter"
   ]
  },
  {
   "cell_type": "code",
   "execution_count": 24,
   "id": "987880f6",
   "metadata": {},
   "outputs": [
    {
     "name": "stdout",
     "output_type": "stream",
     "text": [
      "True\n",
      "False\n"
     ]
    }
   ],
   "source": [
    "print(True)\n",
    "print(False)"
   ]
  },
  {
   "cell_type": "code",
   "execution_count": 26,
   "id": "cf318228",
   "metadata": {},
   "outputs": [
    {
     "name": "stdout",
     "output_type": "stream",
     "text": [
      "첫번째\n",
      "두번째1\n",
      "두번째2\n"
     ]
    }
   ],
   "source": [
    "print('첫번째')\n",
    "print(\"\"\"두번째1\n",
    "두번째2\"\"\")"
   ]
  },
  {
   "cell_type": "code",
   "execution_count": 29,
   "id": "05597000",
   "metadata": {},
   "outputs": [
    {
     "name": "stdout",
     "output_type": "stream",
     "text": [
      "<class 'int'>\n",
      "<class 'float'>\n",
      "<class 'str'>\n",
      "문자열\n"
     ]
    }
   ],
   "source": [
    "a=1\n",
    "print(type(a))\n",
    "a=3.14\n",
    "print(type(a))\n",
    "a='문자열'\n",
    "print(type(a))\n",
    "print(a)"
   ]
  },
  {
   "cell_type": "code",
   "execution_count": 31,
   "id": "8ed1c7ca",
   "metadata": {},
   "outputs": [
    {
     "name": "stdout",
     "output_type": "stream",
     "text": [
      "140709692601128\n",
      "140709692601128\n",
      "140709692601160\n",
      "140709692601160\n"
     ]
    }
   ],
   "source": [
    "a=1\n",
    "print(id(a))\n",
    "print(id(a))\n",
    "a=2\n",
    "print(id(a))\n",
    "print(id(a))"
   ]
  },
  {
   "cell_type": "code",
   "execution_count": 32,
   "id": "9a6ce9d9",
   "metadata": {},
   "outputs": [
    {
     "name": "stdout",
     "output_type": "stream",
     "text": [
      "140709691125000 <class 'NoneType'>\n",
      "140709691125000\n",
      "140709692601160\n",
      "140709692601160\n"
     ]
    }
   ],
   "source": [
    "a=None\n",
    "print(id(a),type(a))\n",
    "print(id(a))\n",
    "a=2\n",
    "print(id(a))\n",
    "print(id(a))"
   ]
  },
  {
   "cell_type": "code",
   "execution_count": 33,
   "id": "da9a663a",
   "metadata": {},
   "outputs": [
    {
     "name": "stdout",
     "output_type": "stream",
     "text": [
      "10 20 30\n"
     ]
    }
   ],
   "source": [
    "kor=10\n",
    "eng=20\n",
    "math=30\n",
    "print(kor,eng,math)"
   ]
  },
  {
   "cell_type": "code",
   "execution_count": 35,
   "id": "9d577367",
   "metadata": {},
   "outputs": [
    {
     "name": "stdout",
     "output_type": "stream",
     "text": [
      "40 50 60\n"
     ]
    }
   ],
   "source": [
    "kor,eng,math=40,50,60\n",
    "print(kor,eng,math)"
   ]
  },
  {
   "cell_type": "code",
   "execution_count": 36,
   "id": "4d5a2870",
   "metadata": {},
   "outputs": [
    {
     "name": "stdout",
     "output_type": "stream",
     "text": [
      "60 50 40\n"
     ]
    }
   ],
   "source": [
    "temp=kor\n",
    "kor=math\n",
    "math=temp\n",
    "print(kor,eng,math)"
   ]
  },
  {
   "cell_type": "code",
   "execution_count": 37,
   "id": "1c023caf",
   "metadata": {},
   "outputs": [
    {
     "name": "stdout",
     "output_type": "stream",
     "text": [
      "40 50 60\n"
     ]
    }
   ],
   "source": [
    "kor,eng,math=math,eng,kor\n",
    "print(kor,eng,math)"
   ]
  },
  {
   "cell_type": "code",
   "execution_count": 40,
   "id": "00cf0f5b",
   "metadata": {},
   "outputs": [
    {
     "name": "stdout",
     "output_type": "stream",
     "text": [
      "80 90\n"
     ]
    }
   ],
   "source": [
    "kor=input('국어')\n",
    "eng=input('영어')\n",
    "kor,eng=eng,kor\n",
    "print(kor,eng)"
   ]
  },
  {
   "cell_type": "code",
   "execution_count": 41,
   "id": "f1ae51b0",
   "metadata": {},
   "outputs": [
    {
     "name": "stdout",
     "output_type": "stream",
     "text": [
      "1234\n",
      "12 34\n",
      "1,2,34\n"
     ]
    }
   ],
   "source": [
    "print(1234)\n",
    "print(12,34)\n",
    "print(1,2,34,sep=',')"
   ]
  },
  {
   "cell_type": "code",
   "execution_count": 42,
   "id": "da4007fa",
   "metadata": {},
   "outputs": [
    {
     "name": "stdout",
     "output_type": "stream",
     "text": [
      "1234\n",
      "12 34@1,2,34\n"
     ]
    }
   ],
   "source": [
    "print(1234)\n",
    "print(12,34,end=\"@\")\n",
    "print(1,2,34,sep=',')"
   ]
  },
  {
   "cell_type": "code",
   "execution_count": 43,
   "id": "f7d2f6d0",
   "metadata": {},
   "outputs": [
    {
     "name": "stdout",
     "output_type": "stream",
     "text": [
      "True\n"
     ]
    }
   ],
   "source": [
    "print(1==1.0)"
   ]
  },
  {
   "cell_type": "code",
   "execution_count": null,
   "id": "7bc43443",
   "metadata": {},
   "outputs": [],
   "source": []
  }
 ],
 "metadata": {
  "kernelspec": {
   "display_name": "Python 3",
   "language": "python",
   "name": "python3"
  },
  "language_info": {
   "codemirror_mode": {
    "name": "ipython",
    "version": 3
   },
   "file_extension": ".py",
   "mimetype": "text/x-python",
   "name": "python",
   "nbconvert_exporter": "python",
   "pygments_lexer": "ipython3",
   "version": "3.11.9"
  }
 },
 "nbformat": 4,
 "nbformat_minor": 5
}
