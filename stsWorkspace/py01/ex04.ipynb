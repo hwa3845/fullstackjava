{
 "cells": [
  {
   "cell_type": "code",
   "execution_count": 5,
   "id": "8b026987",
   "metadata": {},
   "outputs": [],
   "source": [
    "myset={'apple', 'banana', 'cherry'}\n",
    "myset.add(\"orange\")\n",
    "myset.add(\"apple\")"
   ]
  },
  {
   "cell_type": "code",
   "execution_count": 6,
   "id": "ae9a3b11",
   "metadata": {},
   "outputs": [
    {
     "data": {
      "text/plain": [
       "{'apple', 'banana', 'cherry', 'orange'}"
      ]
     },
     "execution_count": 6,
     "metadata": {},
     "output_type": "execute_result"
    }
   ],
   "source": [
    "myset"
   ]
  },
  {
   "cell_type": "code",
   "execution_count": 7,
   "id": "a4433d05",
   "metadata": {},
   "outputs": [
    {
     "name": "stdout",
     "output_type": "stream",
     "text": [
      "apple\n",
      "banana\n",
      "orange\n",
      "cherry\n"
     ]
    }
   ],
   "source": [
    "for ele in myset:\n",
    "    print(ele)"
   ]
  },
  {
   "cell_type": "code",
   "execution_count": 8,
   "id": "c2ca723d",
   "metadata": {},
   "outputs": [
    {
     "data": {
      "text/plain": [
       "{'apple', 'banana', 'cherry', 'mango', 'orange', 'papaya', 'pineapple'}"
      ]
     },
     "execution_count": 8,
     "metadata": {},
     "output_type": "execute_result"
    }
   ],
   "source": [
    "tropical={\"pineapple\",\"mango\",\"papaya\"}\n",
    "\n",
    "myset.update(tropical)\n",
    "myset"
   ]
  },
  {
   "cell_type": "code",
   "execution_count": 10,
   "id": "030a5b60",
   "metadata": {},
   "outputs": [],
   "source": [
    "a=3\n",
    "del a"
   ]
  },
  {
   "cell_type": "code",
   "execution_count": 11,
   "id": "22bfc29d",
   "metadata": {},
   "outputs": [
    {
     "name": "stdout",
     "output_type": "stream",
     "text": [
      "{1, 'a', 'c', 2, 3, 'b'}\n"
     ]
    }
   ],
   "source": [
    "set1 = {\"a\", \"b\", \"c\"}\n",
    "set2 = {1, 2, 3}\n",
    "\n",
    "set3 = set1.union(set2)\n",
    "print(set3)"
   ]
  },
  {
   "cell_type": "code",
   "execution_count": 12,
   "id": "7d315ecb",
   "metadata": {},
   "outputs": [
    {
     "name": "stdout",
     "output_type": "stream",
     "text": [
      "{1, 'a', 'c', 2, 3, 'b'}\n"
     ]
    }
   ],
   "source": [
    "set1 = {\"a\", \"b\", \"c\"}\n",
    "set2 = {1, 2, 3}\n",
    "\n",
    "set3 = set1 | set2\n",
    "print(set3)"
   ]
  },
  {
   "cell_type": "code",
   "execution_count": 13,
   "id": "dd29e576",
   "metadata": {},
   "outputs": [
    {
     "name": "stdout",
     "output_type": "stream",
     "text": [
      "{'banana', 'cherry'}\n"
     ]
    }
   ],
   "source": [
    "set1 = {\"apple\", \"banana\", \"cherry\"}\n",
    "set2 = {\"google\", \"microsoft\", \"apple\"}\n",
    "\n",
    "set3 = set1.difference(set2)\n",
    "\n",
    "print(set3)"
   ]
  },
  {
   "cell_type": "code",
   "execution_count": 14,
   "id": "7f3fd3ce",
   "metadata": {},
   "outputs": [
    {
     "name": "stdout",
     "output_type": "stream",
     "text": [
      "{'banana', 'cherry'}\n"
     ]
    }
   ],
   "source": [
    "set1 = {\"apple\", \"banana\", \"cherry\"}\n",
    "set2 = {\"google\", \"microsoft\", \"apple\"}\n",
    "\n",
    "set3 = set1 - set2\n",
    "print(set3)"
   ]
  },
  {
   "cell_type": "code",
   "execution_count": 15,
   "id": "3b04602d",
   "metadata": {},
   "outputs": [
    {
     "name": "stdout",
     "output_type": "stream",
     "text": [
      "{'banana', 'microsoft', 'google', 'cherry'}\n"
     ]
    }
   ],
   "source": [
    "set1 = {\"apple\", \"banana\", \"cherry\"}\n",
    "set2 = {\"google\", \"microsoft\", \"apple\"}\n",
    "\n",
    "set3 = set1.symmetric_difference(set2)\n",
    "\n",
    "print(set3)"
   ]
  },
  {
   "cell_type": "code",
   "execution_count": 16,
   "id": "8c910036",
   "metadata": {},
   "outputs": [
    {
     "name": "stdout",
     "output_type": "stream",
     "text": [
      "{'banana', 'microsoft', 'google', 'cherry'}\n"
     ]
    }
   ],
   "source": [
    "set1 = {\"apple\", \"banana\", \"cherry\"}\n",
    "set2 = {\"google\", \"microsoft\", \"apple\"}\n",
    "\n",
    "set3 = set1 ^ set2\n",
    "print(set3)"
   ]
  },
  {
   "cell_type": "code",
   "execution_count": 17,
   "id": "23218e3b",
   "metadata": {},
   "outputs": [
    {
     "name": "stdout",
     "output_type": "stream",
     "text": [
      "<class 'dict'> {'k1': 'v1', 'k2': 'v2'}\n"
     ]
    }
   ],
   "source": [
    "map1={'k1':'v1', 'k2':'v2'}\n",
    "print(type(map1),map1)"
   ]
  },
  {
   "cell_type": "code",
   "execution_count": 18,
   "id": "429bd0f4",
   "metadata": {},
   "outputs": [
    {
     "data": {
      "text/plain": [
       "'v1'"
      ]
     },
     "execution_count": 18,
     "metadata": {},
     "output_type": "execute_result"
    }
   ],
   "source": [
    "map1.get('k1')"
   ]
  },
  {
   "cell_type": "code",
   "execution_count": 20,
   "id": "fbade09c",
   "metadata": {},
   "outputs": [
    {
     "data": {
      "text/plain": [
       "'v3'"
      ]
     },
     "execution_count": 20,
     "metadata": {},
     "output_type": "execute_result"
    }
   ],
   "source": [
    "map1.setdefault('k3','v3')"
   ]
  },
  {
   "cell_type": "code",
   "execution_count": 21,
   "id": "630422b5",
   "metadata": {},
   "outputs": [
    {
     "data": {
      "text/plain": [
       "{'k1': 'v1', 'k2': 'v2', 'k3': 'v3'}"
      ]
     },
     "execution_count": 21,
     "metadata": {},
     "output_type": "execute_result"
    }
   ],
   "source": [
    "map1"
   ]
  },
  {
   "cell_type": "code",
   "execution_count": 36,
   "id": "05cada29",
   "metadata": {},
   "outputs": [
    {
     "name": "stdout",
     "output_type": "stream",
     "text": [
      "Ford\n"
     ]
    }
   ],
   "source": [
    "thisdict = {\n",
    "  \"brand\": \"Ford\",\n",
    "  \"model\": \"Mustang\",\n",
    "  \"year\": 1964\n",
    "}\n",
    "print(thisdict[\"brand\"])"
   ]
  },
  {
   "cell_type": "code",
   "execution_count": 23,
   "id": "f67db289",
   "metadata": {},
   "outputs": [
    {
     "data": {
      "text/plain": [
       "{'brand': 'Ford', 'model': 'Mustang', 'year': 1964, 'color': 'red'}"
      ]
     },
     "execution_count": 23,
     "metadata": {},
     "output_type": "execute_result"
    }
   ],
   "source": [
    "thisdict['color']='red'\n",
    "\n",
    "thisdict"
   ]
  },
  {
   "cell_type": "code",
   "execution_count": 24,
   "id": "2ea5940c",
   "metadata": {},
   "outputs": [
    {
     "data": {
      "text/plain": [
       "4"
      ]
     },
     "execution_count": 24,
     "metadata": {},
     "output_type": "execute_result"
    }
   ],
   "source": [
    "len(thisdict)"
   ]
  },
  {
   "cell_type": "code",
   "execution_count": 25,
   "id": "052becf0",
   "metadata": {},
   "outputs": [
    {
     "name": "stdout",
     "output_type": "stream",
     "text": [
      "{'name': 'John', 'age': 36, 'country': 'Norway'}\n"
     ]
    }
   ],
   "source": [
    "thisdict = dict(name = \"John\", age = 36, country = \"Norway\")\n",
    "print(thisdict)"
   ]
  },
  {
   "cell_type": "code",
   "execution_count": 26,
   "id": "87149afd",
   "metadata": {},
   "outputs": [
    {
     "name": "stdout",
     "output_type": "stream",
     "text": [
      "['item1', 'item2', 'item3'] ('item1', 'item2', 'item3') {'item1', 'item2', 'item3'}\n"
     ]
    }
   ],
   "source": [
    "arr1=list(['item1','item2','item3'])\n",
    "arr2=tuple(arr1)\n",
    "set1=set(arr1)\n",
    "print(arr1,arr2,set1)"
   ]
  },
  {
   "cell_type": "code",
   "execution_count": 29,
   "id": "9514cb33",
   "metadata": {},
   "outputs": [],
   "source": [
    "x=thisdict.keys()\n",
    "y=thisdict.values()\n",
    "z=thisdict.items()"
   ]
  },
  {
   "cell_type": "code",
   "execution_count": 30,
   "id": "97d3b752",
   "metadata": {},
   "outputs": [
    {
     "data": {
      "text/plain": [
       "(dict_keys(['name', 'age', 'country']),\n",
       " dict_values(['John', 36, 'Norway']),\n",
       " dict_items([('name', 'John'), ('age', 36), ('country', 'Norway')]))"
      ]
     },
     "execution_count": 30,
     "metadata": {},
     "output_type": "execute_result"
    }
   ],
   "source": [
    "x,y,z"
   ]
  },
  {
   "cell_type": "code",
   "execution_count": 31,
   "id": "af033038",
   "metadata": {},
   "outputs": [],
   "source": [
    "thisdict.update({\"age\":70})"
   ]
  },
  {
   "cell_type": "code",
   "execution_count": 32,
   "id": "f383ed05",
   "metadata": {},
   "outputs": [
    {
     "data": {
      "text/plain": [
       "{'name': 'John', 'age': 70, 'country': 'Norway'}"
      ]
     },
     "execution_count": 32,
     "metadata": {},
     "output_type": "execute_result"
    }
   ],
   "source": [
    "thisdict"
   ]
  },
  {
   "cell_type": "code",
   "execution_count": 33,
   "id": "5f16dcbf",
   "metadata": {},
   "outputs": [
    {
     "data": {
      "text/plain": [
       "70"
      ]
     },
     "execution_count": 33,
     "metadata": {},
     "output_type": "execute_result"
    }
   ],
   "source": [
    "thisdict.pop('age')"
   ]
  },
  {
   "cell_type": "code",
   "execution_count": 34,
   "id": "bd272624",
   "metadata": {},
   "outputs": [
    {
     "data": {
      "text/plain": [
       "('country', 'Norway')"
      ]
     },
     "execution_count": 34,
     "metadata": {},
     "output_type": "execute_result"
    }
   ],
   "source": [
    "thisdict.popitem()"
   ]
  },
  {
   "cell_type": "code",
   "execution_count": 35,
   "id": "6fe6f996",
   "metadata": {},
   "outputs": [
    {
     "data": {
      "text/plain": [
       "{'name': 'John'}"
      ]
     },
     "execution_count": 35,
     "metadata": {},
     "output_type": "execute_result"
    }
   ],
   "source": [
    "thisdict"
   ]
  },
  {
   "cell_type": "code",
   "execution_count": 40,
   "id": "5362dd74",
   "metadata": {},
   "outputs": [
    {
     "name": "stdout",
     "output_type": "stream",
     "text": [
      "brand Ford\n",
      "model Mustang\n",
      "year 1964\n"
     ]
    }
   ],
   "source": [
    "for (key,val) in thisdict.items():\n",
    "    print(key,val)"
   ]
  },
  {
   "cell_type": "code",
   "execution_count": null,
   "id": "3d4b795e",
   "metadata": {},
   "outputs": [],
   "source": []
  }
 ],
 "metadata": {
  "kernelspec": {
   "display_name": "Python 3",
   "language": "python",
   "name": "python3"
  },
  "language_info": {
   "codemirror_mode": {
    "name": "ipython",
    "version": 3
   },
   "file_extension": ".py",
   "mimetype": "text/x-python",
   "name": "python",
   "nbconvert_exporter": "python",
   "pygments_lexer": "ipython3",
   "version": "3.11.9"
  }
 },
 "nbformat": 4,
 "nbformat_minor": 5
}
